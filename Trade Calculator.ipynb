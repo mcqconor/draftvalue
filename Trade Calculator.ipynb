{
 "cells": [
  {
   "cell_type": "code",
   "execution_count": 1,
   "metadata": {},
   "outputs": [
    {
     "name": "stderr",
     "output_type": "stream",
     "text": [
      "C:\\Users\\conor\\Anaconda3\\lib\\site-packages\\statsmodels\\compat\\pandas.py:49: FutureWarning: The Panel class is removed from pandas. Accessing it from the top-level namespace will also be removed in the next version\n",
      "  data_klasses = (pandas.Series, pandas.DataFrame, pandas.Panel)\n"
     ]
    }
   ],
   "source": [
    "import matplotlib.pyplot as plt\n",
    "%matplotlib inline\n",
    "from scipy.interpolate import interp1d\n",
    "import statsmodels.api as sm\n",
    "import pandas as pd\n",
    "import numpy as np\n",
    "import itertools"
   ]
  },
  {
   "cell_type": "code",
   "execution_count": 2,
   "metadata": {},
   "outputs": [],
   "source": [
    "pick_values = pd.read_csv('https://raw.githubusercontent.com/mcqconor/draftvalue/main/pick_val.csv')"
   ]
  },
  {
   "cell_type": "code",
   "execution_count": 38,
   "metadata": {},
   "outputs": [],
   "source": [
    "picks = pick_values['pick_num'].values\n",
    "jj_vals = pick_values['jj_val'].values\n",
    "fs_vals = pick_values['otc_val'].values"
   ]
  },
  {
   "cell_type": "code",
   "execution_count": 4,
   "metadata": {},
   "outputs": [],
   "source": [
    "# lowess will return our \"smoothed\" data with a y value for at every x-value\n",
    "lowess_jj = sm.nonparametric.lowess(jj_vals, picks, frac = 0.01)\n",
    "lowess_fs = sm.nonparametric.lowess(fs_vals, picks, frac = 0.01)\n",
    "\n",
    "# unpack the lowess smoothed points to their values\n",
    "lowess_jj_x = list(zip(*lowess_jj))[0]\n",
    "lowess_jj_y = list(zip(*lowess_jj))[1]\n",
    "\n",
    "lowess_fs_x = list(zip(*lowess_fs))[0]\n",
    "lowess_fs_y = list(zip(*lowess_fs))[1]\n",
    "\n",
    "f_jj = interp1d(lowess_jj_x, lowess_jj_y, bounds_error=False)\n",
    "f_fs = interp1d(lowess_fs_x, lowess_fs_y, bounds_error=False)"
   ]
  },
  {
   "cell_type": "code",
   "execution_count": 39,
   "metadata": {},
   "outputs": [],
   "source": [
    "f_jj_inv = interp1d(jj_vals, picks, bounds_error=False)\n",
    "f_fs_inv = interp1d(fs_vals, picks, bounds_error = False)"
   ]
  },
  {
   "cell_type": "code",
   "execution_count": 6,
   "metadata": {},
   "outputs": [
    {
     "data": {
      "text/plain": [
       "array(1946.)"
      ]
     },
     "execution_count": 6,
     "metadata": {},
     "output_type": "execute_result"
    }
   ],
   "source": [
    "f_fs(8)"
   ]
  },
  {
   "cell_type": "code",
   "execution_count": 7,
   "metadata": {},
   "outputs": [],
   "source": [
    "team_picks = [11,42,73,111,187,228]\n",
    "opp_picks = [8,43, 58, 74, 112, 150, 188, 212]\n",
    "\n",
    "target = -250\n",
    "pick_val = f_jj(8)"
   ]
  },
  {
   "cell_type": "code",
   "execution_count": 8,
   "metadata": {},
   "outputs": [],
   "source": [
    "numbers = [x*-1 for x in f_jj(team_picks).tolist()] + f_jj(opp_picks).tolist()\n",
    "\n",
    "result = [seq for i in range(len(numbers), 0, -1)\n",
    "          for seq in itertools.combinations(numbers, i)\n",
    "          if (pick_val in seq) & (sum(seq) <= target)]"
   ]
  },
  {
   "cell_type": "code",
   "execution_count": 9,
   "metadata": {},
   "outputs": [],
   "source": [
    "trade_options = []\n",
    "for i in result:\n",
    "    i = list(i)\n",
    "    for j in range(len(i)):\n",
    "        if i[j] <0:\n",
    "            i[j] = -1*i[j]\n",
    "    \n",
    "    trade_options = trade_options + [i]"
   ]
  },
  {
   "cell_type": "code",
   "execution_count": 32,
   "metadata": {},
   "outputs": [],
   "source": [
    "trade_jj_vals = []\n",
    "for res in result:\n",
    "    trade_jj_vals = trade_jj_vals + [sum(res)]"
   ]
  },
  {
   "cell_type": "code",
   "execution_count": 10,
   "metadata": {},
   "outputs": [],
   "source": [
    "trade_picks = []\n",
    "for trade in trade_options:\n",
    "    trade_picks = trade_picks + [list(f_jj_inv(trade))]"
   ]
  },
  {
   "cell_type": "code",
   "execution_count": 11,
   "metadata": {},
   "outputs": [],
   "source": [
    "trade_ids = []\n",
    "for trade in trade_picks:\n",
    "    trade_ids.append(','.join(map(str, (int(i) for i in trade))))"
   ]
  },
  {
   "cell_type": "code",
   "execution_count": 43,
   "metadata": {},
   "outputs": [],
   "source": [
    "fs_vals = []\n",
    "for trade in trade_picks:\n",
    "    t_vals = []\n",
    "    for pick in trade:\n",
    "        if team_picks.count(pick):\n",
    "            val = -1*f_fs(pick)\n",
    "        \n",
    "        elif pick == 252 and not team_picks.count(pick):\n",
    "            val = -1*f_fs(228)\n",
    "            \n",
    "        else:\n",
    "            val = f_fs(pick)\n",
    "            \n",
    "        t_vals = t_vals + [val]\n",
    "        \n",
    "    fs_vals.append(sum(t_vals))"
   ]
  },
  {
   "cell_type": "code",
   "execution_count": 46,
   "metadata": {},
   "outputs": [],
   "source": [
    "fs_pick_equiv = f_fs_inv([abs(x) for x in fs_vals])\n",
    "jj_pick_equiv = f_jj_inv([abs(x) for x in trade_jj_vals])"
   ]
  },
  {
   "cell_type": "code",
   "execution_count": 48,
   "metadata": {},
   "outputs": [],
   "source": [
    "trade_df = pd.DataFrame({\n",
    "    'trade_id':trade_ids,\n",
    "    'jj_vals':trade_jj_vals,\n",
    "    'jj_pick':jj_pick_equiv,\n",
    "    'fs_vals':fs_vals,\n",
    "    'fs_pick_equiv':fs_pick_equiv\n",
    "})\n",
    "\n",
    "trade_df.to_csv('was_atl_8.csv')"
   ]
  }
 ],
 "metadata": {
  "kernelspec": {
   "display_name": "Python 3",
   "language": "python",
   "name": "python3"
  },
  "language_info": {
   "codemirror_mode": {
    "name": "ipython",
    "version": 3
   },
   "file_extension": ".py",
   "mimetype": "text/x-python",
   "name": "python",
   "nbconvert_exporter": "python",
   "pygments_lexer": "ipython3",
   "version": "3.7.1"
  }
 },
 "nbformat": 4,
 "nbformat_minor": 2
}
